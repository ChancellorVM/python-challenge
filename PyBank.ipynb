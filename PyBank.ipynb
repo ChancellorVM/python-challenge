{
 "cells": [
  {
   "cell_type": "code",
   "execution_count": 9,
   "id": "910740c6-4698-411a-b9b5-f645e2f95238",
   "metadata": {},
   "outputs": [],
   "source": [
    "import csv\n",
    "\n",
    "# Path to the CSV file\n",
    "file_path = '/Users/vinaymadhugiri/Desktop/Data Science Bootcamp/Challenges/Module3Challenge/PyBank/Resources/budget_data.csv'"
   ]
  },
  {
   "cell_type": "code",
   "execution_count": 11,
   "id": "37c21254-144d-4acd-a633-80ebe5030094",
   "metadata": {},
   "outputs": [],
   "source": [
    "# Initialize variables\n",
    "months = []\n",
    "profit_losses = []\n",
    "changes = []\n"
   ]
  },
  {
   "cell_type": "code",
   "execution_count": 13,
   "id": "bc52441a-e573-453d-beb2-57c294c4cd3f",
   "metadata": {},
   "outputs": [],
   "source": [
    "# Open and read the CSV file\n",
    "with open(file_path, mode='r') as file:\n",
    "    csv_reader = csv.reader(file)\n",
    "    next(csv_reader)  # Skip the header row\n",
    "\n",
    "    # Loop through each row in the file\n",
    "    for row in csv_reader:\n",
    "        months.append(row[0])  # The 'Date' column\n",
    "        profit_losses.append(int(row[1]))  # The 'Profit/Losses' column\n"
   ]
  },
  {
   "cell_type": "code",
   "execution_count": 15,
   "id": "4fcadb99-01a8-49f5-b96b-84191ca5b500",
   "metadata": {},
   "outputs": [],
   "source": [
    "# Calculate the total number of months\n",
    "total_months = len(months)\n"
   ]
  },
  {
   "cell_type": "code",
   "execution_count": 17,
   "id": "8205da15-021f-4d10-9d2a-fd11aa3b7884",
   "metadata": {},
   "outputs": [],
   "source": [
    "# Calculate the net total amount of \"Profit/Losses\"\n",
    "net_total = sum(profit_losses)"
   ]
  },
  {
   "cell_type": "code",
   "execution_count": 19,
   "id": "2ab7bfa2-0d00-4e75-b0f1-c79bfe976c7a",
   "metadata": {},
   "outputs": [],
   "source": [
    "# Calculate changes in \"Profit/Losses\" and append each change to the changes list\n",
    "for i in range(1, len(profit_losses)):\n",
    "    changes.append(profit_losses[i] - profit_losses[i - 1])"
   ]
  },
  {
   "cell_type": "code",
   "execution_count": 21,
   "id": "cdee238e-6775-495e-a1ae-c73de7a7813f",
   "metadata": {},
   "outputs": [],
   "source": [
    "# Calculate the average change\n",
    "average_change = sum(changes) / len(changes)"
   ]
  },
  {
   "cell_type": "code",
   "execution_count": 23,
   "id": "3a66d560-0262-4d8a-9a98-406743d96383",
   "metadata": {},
   "outputs": [],
   "source": [
    "# Find the greatest increase and decrease in profits\n",
    "greatest_increase = max(changes)\n",
    "greatest_decrease = min(changes)\n",
    "greatest_increase_month = months[changes.index(greatest_increase) + 1]\n",
    "greatest_decrease_month = months[changes.index(greatest_decrease) + 1]"
   ]
  },
  {
   "cell_type": "code",
   "execution_count": 29,
   "id": "008a56fc-6e89-408d-90bb-c2f422f9aed5",
   "metadata": {},
   "outputs": [],
   "source": [
    "# Create the analysis summary\n",
    "analysis_output = (\n",
    "    \"Financial Analysis\\n\"\n",
    "    \"----------------------------\\n\"\n",
    "    f\"Total Months: {total_months}\\n\"\n",
    "    f\"Total: ${net_total}\\n\"\n",
    "    f\"Average Change: ${average_change:.2f}\\n\"\n",
    "    f\"Greatest Increase in Profits: {greatest_increase_month} (${greatest_increase})\\n\"\n",
    "    f\"Greatest Decrease in Profits: {greatest_decrease_month} (${greatest_decrease})\\n\"\n",
    ")"
   ]
  },
  {
   "cell_type": "code",
   "execution_count": 31,
   "id": "1997d021-3f34-4148-b501-fa08f4770421",
   "metadata": {},
   "outputs": [
    {
     "name": "stdout",
     "output_type": "stream",
     "text": [
      "Financial Analysis\n",
      "----------------------------\n",
      "Total Months: 86\n",
      "Total: $22564198\n",
      "Average Change: $-8311.11\n",
      "Greatest Increase in Profits: Aug-16 ($1862002)\n",
      "Greatest Decrease in Profits: Feb-14 ($-1825558)\n",
      "\n"
     ]
    }
   ],
   "source": [
    "# Print the analysis to the terminal\n",
    "print(analysis_output)"
   ]
  },
  {
   "cell_type": "code",
   "execution_count": 35,
   "id": "6d6f59d5-1559-4e5e-a4a5-ffbd329afadd",
   "metadata": {},
   "outputs": [],
   "source": [
    "# Export the analysis to a text file\n",
    "output_path = '/Users/vinaymadhugiri/Desktop/Data Science Bootcamp/Challenges/Module3Challenge/PyBank/financial_analysis.txt'\n",
    "with open(output_path, mode='w') as output_file:\n",
    "    output_file.write(analysis_output)"
   ]
  },
  {
   "cell_type": "code",
   "execution_count": null,
   "id": "f3a943fe-3528-401b-a71a-d8404bfbde7f",
   "metadata": {},
   "outputs": [],
   "source": []
  }
 ],
 "metadata": {
  "kernelspec": {
   "display_name": "Python 3 (ipykernel)",
   "language": "python",
   "name": "python3"
  },
  "language_info": {
   "codemirror_mode": {
    "name": "ipython",
    "version": 3
   },
   "file_extension": ".py",
   "mimetype": "text/x-python",
   "name": "python",
   "nbconvert_exporter": "python",
   "pygments_lexer": "ipython3",
   "version": "3.12.4"
  }
 },
 "nbformat": 4,
 "nbformat_minor": 5
}
