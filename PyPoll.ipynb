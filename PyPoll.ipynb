{
 "cells": [
  {
   "cell_type": "code",
   "execution_count": 1,
   "id": "40a79f82-394c-4dcb-a6ab-7c8fe374e114",
   "metadata": {},
   "outputs": [],
   "source": [
    "import csv\n",
    "\n",
    "# Define the path to the CSV file\n",
    "file_path = '/Users/vinaymadhugiri/Desktop/Data Science Bootcamp/Challenges/Module3Challenge/PyPoll/Resources/election_data.csv'"
   ]
  },
  {
   "cell_type": "code",
   "execution_count": 3,
   "id": "e4b6cc62-92a2-4967-bd00-e71ef322f655",
   "metadata": {},
   "outputs": [],
   "source": [
    "# Initialize variables\n",
    "total_votes = 0\n",
    "candidate_votes = {}"
   ]
  },
  {
   "cell_type": "code",
   "execution_count": 5,
   "id": "aff4393c-84e6-438c-b042-4b6b13e7c8dc",
   "metadata": {},
   "outputs": [],
   "source": [
    "# Read the data from the CSV file\n",
    "with open(file_path, mode='r') as file:\n",
    "    csv_reader = csv.reader(file)\n",
    "    # Skip the header\n",
    "    next(csv_reader)\n",
    "    \n",
    "    # Process each row in the CSV\n",
    "    for row in csv_reader:\n",
    "        total_votes += 1  # Increment the total vote count\n",
    "        candidate = row[2]  # Candidate's name is in the third column\n",
    "        \n",
    "        # Track each candidate's vote count\n",
    "        if candidate in candidate_votes:\n",
    "            candidate_votes[candidate] += 1\n",
    "        else:\n",
    "            candidate_votes[candidate] = 1"
   ]
  },
  {
   "cell_type": "code",
   "execution_count": 7,
   "id": "cbf9217d-5b87-4902-9426-2c9788e75c38",
   "metadata": {},
   "outputs": [],
   "source": [
    "# Calculate vote percentages and determine the winner\n",
    "winner = None\n",
    "max_votes = 0\n",
    "candidate_percentages = {}\n",
    "\n",
    "for candidate, votes in candidate_votes.items():\n",
    "    percentage = (votes / total_votes) * 100\n",
    "    candidate_percentages[candidate] = percentage\n",
    "    \n",
    "    # Update the winner if this candidate has the most votes\n",
    "    if votes > max_votes:\n",
    "        max_votes = votes\n",
    "        winner = candidate"
   ]
  },
  {
   "cell_type": "code",
   "execution_count": 9,
   "id": "e7366ced-aba8-49d5-8489-f956e742a512",
   "metadata": {},
   "outputs": [
    {
     "name": "stdout",
     "output_type": "stream",
     "text": [
      "Election Results\n",
      "-------------------------\n",
      "Total Votes: 369711\n",
      "-------------------------\n",
      "Charles Casper Stockham: 23.05% (85213)\n",
      "Diana DeGette: 73.81% (272892)\n",
      "Raymon Anthony Doane: 3.14% (11606)\n",
      "-------------------------\n",
      "Winner: Diana DeGette\n",
      "-------------------------\n"
     ]
    }
   ],
   "source": [
    "# Print the results\n",
    "print(\"Election Results\")\n",
    "print(\"-------------------------\")\n",
    "print(f\"Total Votes: {total_votes}\")\n",
    "print(\"-------------------------\")\n",
    "for candidate, votes in candidate_votes.items():\n",
    "    print(f\"{candidate}: {candidate_percentages[candidate]:.2f}% ({votes})\")\n",
    "print(\"-------------------------\")\n",
    "print(f\"Winner: {winner}\")\n",
    "print(\"-------------------------\")"
   ]
  },
  {
   "cell_type": "code",
   "execution_count": null,
   "id": "8e953717-d2ae-4116-8bb2-75e4aef9f893",
   "metadata": {},
   "outputs": [],
   "source": []
  }
 ],
 "metadata": {
  "kernelspec": {
   "display_name": "Python 3 (ipykernel)",
   "language": "python",
   "name": "python3"
  },
  "language_info": {
   "codemirror_mode": {
    "name": "ipython",
    "version": 3
   },
   "file_extension": ".py",
   "mimetype": "text/x-python",
   "name": "python",
   "nbconvert_exporter": "python",
   "pygments_lexer": "ipython3",
   "version": "3.12.4"
  }
 },
 "nbformat": 4,
 "nbformat_minor": 5
}
